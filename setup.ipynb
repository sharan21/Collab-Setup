{
  "nbformat": 4,
  "nbformat_minor": 0,
  "metadata": {
    "accelerator": "GPU",
    "colab": {
      "name": "Copy of Gan-Exps.ipynb",
      "provenance": [],
      "collapsed_sections": []
    },
    "kernelspec": {
      "display_name": "Python 3",
      "name": "python3"
    }
  },
  "cells": [
    {
      "cell_type": "code",
      "metadata": {
        "id": "LQdl8xfLe1kr",
        "colab": {
          "base_uri": "https://localhost:8080/"
        },
        "outputId": "9c547a47-95f6-46c2-f63f-3b51c87d4c3e"
      },
      "source": [
        "#before you run this enable GPU, Edit->Notebook settings->GPU\n",
        "import torch\n",
        "\n",
        "assert(torch.cuda.is_available())\n",
        "print(torch.cuda.device_count())\n",
        "print(torch.cuda.current_device())\n",
        "\n",
        "#to check gpu usage while running, run this on VM terminal\n",
        "!nvidia-smi\n",
        "#to check gpu usage persistenly every 1 second, run this on VM terminal\n",
        "# !watch -n 0.5 nvidia-smi\n",
        "#to check cpu usage, run this on VM terminal\n",
        "!top\n",
        "!cat /proc/cpuinfo\n"
      ],
      "execution_count": null,
      "outputs": [
        {
          "output_type": "stream",
          "text": [
            "1\n",
            "0\n",
            "Tue May  4 07:59:57 2021       \n",
            "+-----------------------------------------------------------------------------+\n",
            "| NVIDIA-SMI 465.19.01    Driver Version: 460.32.03    CUDA Version: 11.2     |\n",
            "|-------------------------------+----------------------+----------------------+\n",
            "| GPU  Name        Persistence-M| Bus-Id        Disp.A | Volatile Uncorr. ECC |\n",
            "| Fan  Temp  Perf  Pwr:Usage/Cap|         Memory-Usage | GPU-Util  Compute M. |\n",
            "|                               |                      |               MIG M. |\n",
            "|===============================+======================+======================|\n",
            "|   0  Tesla P100-PCIE...  Off  | 00000000:00:04.0 Off |                    0 |\n",
            "| N/A   35C    P0    26W / 250W |      2MiB / 16280MiB |      0%      Default |\n",
            "|                               |                      |                  N/A |\n",
            "+-------------------------------+----------------------+----------------------+\n",
            "                                                                               \n",
            "+-----------------------------------------------------------------------------+\n",
            "| Processes:                                                                  |\n",
            "|  GPU   GI   CI        PID   Type   Process name                  GPU Memory |\n",
            "|        ID   ID                                                   Usage      |\n",
            "|=============================================================================|\n",
            "|  No running processes found                                                 |\n",
            "+-----------------------------------------------------------------------------+\n"
          ],
          "name": "stdout"
        }
      ]
    },
    {
      "cell_type": "code",
      "metadata": {
        "id": "Rn3FVBWQ2t7g"
      },
      "source": [
        "# #run this to map your google drive to the VMs file system, after its done the mapped location is /content/gdrive/MyDrive\n",
        "# from google.colab import drive\n",
        "\n",
        "# drive.mount(\"/content/gdrive\")"
      ],
      "execution_count": null,
      "outputs": []
    },
    {
      "cell_type": "code",
      "metadata": {
        "id": "QA8LIGapQdt7",
        "colab": {
          "base_uri": "https://localhost:8080/"
        },
        "outputId": "67821cdb-4e3d-45f3-9664-c527d461698f"
      },
      "source": [
        "#run this before you do port forwarding/ remote ssh in the next cell\n",
        "#make sure you send all important updated files to your local machine using 'wormhole send <filename>' incase the VM crashes/exits\n",
        "\n",
        "# setup git config, you can push to your private repos by auth using CLI directly\n",
        "!git config --global user.email \"email\"\n",
        "!git config --global user.name \"username\"\n",
        "\n",
        "# i use these alises alot to make using terminal faster\n",
        "!alias c='clear'\n",
        "!alias nn='open .'\n",
        "!alias p3='python3'\n",
        "!alias ls='ls -G'\n",
        "!alias lh='ls -lh'\n",
        "\n",
        "#installing some useful packages to use in VM\n",
        "!pip3 install colabcode\n",
        "!pip3 install jsonline\n",
        "!pip3 install tensorboardX\n",
        "!sudo apt install zsh\n",
        "!pip install colab_ssh --upgrade\n",
        "!pip3 install magic-wormhole\n",
        "\n",
        "\n"
      ],
      "execution_count": null,
      "outputs": [
        {
          "output_type": "stream",
          "text": [
            "Reading package lists... Done\n",
            "Building dependency tree       \n",
            "Reading state information... Done\n",
            "The following package was automatically installed and is no longer required:\n",
            "  libnvidia-common-460\n",
            "Use 'sudo apt autoremove' to remove it.\n",
            "The following additional packages will be installed:\n",
            "  zsh-common\n",
            "Suggested packages:\n",
            "  zsh-doc\n",
            "The following NEW packages will be installed:\n",
            "  zsh zsh-common\n",
            "0 upgraded, 2 newly installed, 0 to remove and 34 not upgraded.\n",
            "Need to get 4,066 kB of archives.\n",
            "After this operation, 15.2 MB of additional disk space will be used.\n",
            "Get:1 http://archive.ubuntu.com/ubuntu bionic-updates/main amd64 zsh-common all 5.4.2-3ubuntu3.1 [3,376 kB]\n",
            "Get:2 http://archive.ubuntu.com/ubuntu bionic-updates/main amd64 zsh amd64 5.4.2-3ubuntu3.1 [690 kB]\n",
            "Fetched 4,066 kB in 9s (441 kB/s)\n",
            "debconf: unable to initialize frontend: Dialog\n",
            "debconf: (No usable dialog-like program is installed, so the dialog based frontend cannot be used. at /usr/share/perl5/Debconf/FrontEnd/Dialog.pm line 76, <> line 2.)\n",
            "debconf: falling back to frontend: Readline\n",
            "debconf: unable to initialize frontend: Readline\n",
            "debconf: (This frontend requires a controlling tty.)\n",
            "debconf: falling back to frontend: Teletype\n",
            "dpkg-preconfigure: unable to re-open stdin: \n",
            "Selecting previously unselected package zsh-common.\n",
            "(Reading database ... 160690 files and directories currently installed.)\n",
            "Preparing to unpack .../zsh-common_5.4.2-3ubuntu3.1_all.deb ...\n",
            "Unpacking zsh-common (5.4.2-3ubuntu3.1) ...\n",
            "Selecting previously unselected package zsh.\n",
            "Preparing to unpack .../zsh_5.4.2-3ubuntu3.1_amd64.deb ...\n",
            "Unpacking zsh (5.4.2-3ubuntu3.1) ...\n",
            "Setting up zsh-common (5.4.2-3ubuntu3.1) ...\n",
            "Setting up zsh (5.4.2-3ubuntu3.1) ...\n",
            "Processing triggers for man-db (2.8.3-2ubuntu0.1) ...\n",
            "Collecting colab_ssh\n",
            "  Downloading https://files.pythonhosted.org/packages/74/c0/a2d6cc985d9496968b80203105f20c8d3845effa45dd4cb46c22879f1e44/colab_ssh-0.3.15-py3-none-any.whl\n",
            "Installing collected packages: colab-ssh\n",
            "Successfully installed colab-ssh-0.3.15\n",
            "Collecting magic-wormhole\n",
            "\u001b[?25l  Downloading https://files.pythonhosted.org/packages/94/a9/55fd5129c18802d334a0dd5380e08ff647a5eddea0dde1ba1360a318e1cf/magic_wormhole-0.12.0-py2.py3-none-any.whl (201kB)\n",
            "\u001b[K     |████████████████████████████████| 204kB 7.5MB/s \n",
            "\u001b[?25hCollecting spake2==0.8\n",
            "  Downloading https://files.pythonhosted.org/packages/92/b8/e1bdd53d1a865f4769769fa2473d8f410622ba21b45d062acaa0cecaa937/spake2-0.8-py2.py3-none-any.whl\n",
            "Collecting hkdf\n",
            "  Downloading https://files.pythonhosted.org/packages/c3/be/327e072850db181ce56afd51e26ec7aa5659b18466c709fa5ea2548c935f/hkdf-0.0.3.tar.gz\n",
            "Requirement already satisfied: tqdm>=4.13.0 in /usr/local/lib/python3.7/dist-packages (from magic-wormhole) (4.41.1)\n",
            "Collecting txtorcon>=18.0.2\n",
            "\u001b[?25l  Downloading https://files.pythonhosted.org/packages/13/e0/1c53da6e7dc0b9cc052c64057768ba01337efb1e31a00eac25a3bac85d5d/txtorcon-20.0.0-py2.py3-none-any.whl (260kB)\n",
            "\u001b[K     |████████████████████████████████| 266kB 11.8MB/s \n",
            "\u001b[?25hCollecting pynacl\n",
            "\u001b[?25l  Downloading https://files.pythonhosted.org/packages/9d/57/2f5e6226a674b2bcb6db531e8b383079b678df5b10cdaa610d6cf20d77ba/PyNaCl-1.4.0-cp35-abi3-manylinux1_x86_64.whl (961kB)\n",
            "\u001b[K     |████████████████████████████████| 962kB 13.2MB/s \n",
            "\u001b[?25hRequirement already satisfied: click in /usr/local/lib/python3.7/dist-packages (from magic-wormhole) (7.1.2)\n",
            "Requirement already satisfied: attrs>=16.3.0 in /usr/local/lib/python3.7/dist-packages (from magic-wormhole) (20.3.0)\n",
            "Collecting twisted[tls]>=17.5.0\n",
            "\u001b[?25l  Downloading https://files.pythonhosted.org/packages/f2/16/3eb9c66a7bfb5220c7bcbaaac33d359fe8a157b028959cd210983749b2e0/Twisted-21.2.0-py3-none-any.whl (3.1MB)\n",
            "\u001b[K     |████████████████████████████████| 3.1MB 27.2MB/s \n",
            "\u001b[?25hCollecting automat\n",
            "  Downloading https://files.pythonhosted.org/packages/dd/83/5f6f3c1a562674d65efc320257bdc0873ec53147835aeef7762fe7585273/Automat-20.2.0-py2.py3-none-any.whl\n",
            "Requirement already satisfied: humanize in /usr/local/lib/python3.7/dist-packages (from magic-wormhole) (0.5.1)\n",
            "Requirement already satisfied: six in /usr/local/lib/python3.7/dist-packages (from magic-wormhole) (1.15.0)\n",
            "Collecting autobahn[twisted]>=0.14.1\n",
            "\u001b[?25l  Downloading https://files.pythonhosted.org/packages/f0/8b/816e29fdcb249c3ce8e7e4c16f0547b0255c5f4c9a6cb88c2c91b7d8b202/autobahn-21.3.1-py2.py3-none-any.whl (495kB)\n",
            "\u001b[K     |████████████████████████████████| 501kB 52.7MB/s \n",
            "\u001b[?25hCollecting cryptography\n",
            "\u001b[?25l  Downloading https://files.pythonhosted.org/packages/b2/26/7af637e6a7e87258b963f1731c5982fb31cd507f0d90d91836e446955d02/cryptography-3.4.7-cp36-abi3-manylinux2014_x86_64.whl (3.2MB)\n",
            "\u001b[K     |████████████████████████████████| 3.2MB 53.3MB/s \n",
            "\u001b[?25hCollecting incremental\n",
            "  Downloading https://files.pythonhosted.org/packages/99/3b/4f80dd10cb716f3a9e22ae88f026d25c47cc3fdf82c2747f3d59c98e4ff1/incremental-21.3.0-py2.py3-none-any.whl\n",
            "Collecting zope.interface>=3.6.1\n",
            "\u001b[?25l  Downloading https://files.pythonhosted.org/packages/bb/a7/94e1a92c71436f934cdd2102826fa041c83dcb7d21dd0f1fb1a57f6e0620/zope.interface-5.4.0-cp37-cp37m-manylinux2010_x86_64.whl (251kB)\n",
            "\u001b[K     |████████████████████████████████| 256kB 48.4MB/s \n",
            "\u001b[?25hRequirement already satisfied: cffi>=1.4.1 in /usr/local/lib/python3.7/dist-packages (from pynacl->magic-wormhole) (1.14.5)\n",
            "Collecting hyperlink>=17.1.1\n",
            "\u001b[?25l  Downloading https://files.pythonhosted.org/packages/6e/aa/8caf6a0a3e62863cbb9dab27135660acba46903b703e224f14f447e57934/hyperlink-21.0.0-py2.py3-none-any.whl (74kB)\n",
            "\u001b[K     |████████████████████████████████| 81kB 11.0MB/s \n",
            "\u001b[?25hCollecting constantly>=15.1\n",
            "  Downloading https://files.pythonhosted.org/packages/b9/65/48c1909d0c0aeae6c10213340ce682db01b48ea900a7d9fce7a7910ff318/constantly-15.1.0-py2.py3-none-any.whl\n",
            "Requirement already satisfied: idna>=2.4; extra == \"tls\" in /usr/local/lib/python3.7/dist-packages (from twisted[tls]>=17.5.0->magic-wormhole) (2.10)\n",
            "Collecting service-identity>=18.1.0; extra == \"tls\"\n",
            "  Downloading https://files.pythonhosted.org/packages/e9/7c/2195b890023e098f9618d43ebc337d83c8b38d414326685339eb024db2f6/service_identity-18.1.0-py2.py3-none-any.whl\n",
            "Collecting pyopenssl>=16.0.0; extra == \"tls\"\n",
            "\u001b[?25l  Downloading https://files.pythonhosted.org/packages/b2/5e/06351ede29fd4899782ad335c2e02f1f862a887c20a3541f17c3fa1a3525/pyOpenSSL-20.0.1-py2.py3-none-any.whl (54kB)\n",
            "\u001b[K     |████████████████████████████████| 61kB 9.1MB/s \n",
            "\u001b[?25hCollecting txaio>=21.2.1\n",
            "  Downloading https://files.pythonhosted.org/packages/55/53/c9b89497ba46395bbf84a8c511550626cc5c507c0b76680df54435553e53/txaio-21.2.1-py2.py3-none-any.whl\n",
            "Requirement already satisfied: setuptools in /usr/local/lib/python3.7/dist-packages (from zope.interface>=3.6.1->txtorcon>=18.0.2->magic-wormhole) (56.0.0)\n",
            "Requirement already satisfied: pycparser in /usr/local/lib/python3.7/dist-packages (from cffi>=1.4.1->pynacl->magic-wormhole) (2.20)\n",
            "Requirement already satisfied: pyasn1-modules in /usr/local/lib/python3.7/dist-packages (from service-identity>=18.1.0; extra == \"tls\"->twisted[tls]>=17.5.0->magic-wormhole) (0.2.8)\n",
            "Requirement already satisfied: pyasn1 in /usr/local/lib/python3.7/dist-packages (from service-identity>=18.1.0; extra == \"tls\"->twisted[tls]>=17.5.0->magic-wormhole) (0.4.8)\n",
            "Building wheels for collected packages: hkdf\n",
            "  Building wheel for hkdf (setup.py) ... \u001b[?25l\u001b[?25hdone\n",
            "  Created wheel for hkdf: filename=hkdf-0.0.3-cp37-none-any.whl size=3736 sha256=03d257091690ff5fbb156f842fcbc12a851c26b14c75686ca4e29676c658dcbc\n",
            "  Stored in directory: /root/.cache/pip/wheels/6d/91/ba/2e93364022df91743d71cc6bd91414f29a4afd20a89a3077df\n",
            "Successfully built hkdf\n",
            "Installing collected packages: hkdf, spake2, cryptography, incremental, automat, zope.interface, hyperlink, constantly, service-identity, pyopenssl, twisted, txtorcon, pynacl, txaio, autobahn, magic-wormhole\n",
            "Successfully installed autobahn-21.3.1 automat-20.2.0 constantly-15.1.0 cryptography-3.4.7 hkdf-0.0.3 hyperlink-21.0.0 incremental-21.3.0 magic-wormhole-0.12.0 pynacl-1.4.0 pyopenssl-20.0.1 service-identity-18.1.0 spake2-0.8 twisted-21.2.0 txaio-21.2.1 txtorcon-20.0.0 zope.interface-5.4.0\n"
          ],
          "name": "stdout"
        }
      ]
    },
    {
      "cell_type": "code",
      "metadata": {
        "id": "tqeqllggDxkJ",
        "colab": {
          "base_uri": "https://localhost:8080/"
        },
        "outputId": "891412ec-b477-4eed-f149-8e92787edd64"
      },
      "source": [
        "\n",
        "\n",
        "#I install zsh for better terminal\n",
        "!sh -c \"$(curl -fsSL https://raw.github.com/ohmyzsh/ohmyzsh/master/tools/install.sh)\""
      ],
      "execution_count": null,
      "outputs": [
        {
          "output_type": "stream",
          "text": [
            "\u001b[34mCloning Oh My Zsh...\u001b[m\n",
            "Cloning into '/root/.oh-my-zsh'...\n",
            "remote: Enumerating objects: 1210, done.\u001b[K\n",
            "remote: Counting objects: 100% (1210/1210), done.\u001b[K\n",
            "remote: Compressing objects: 100% (1175/1175), done.\u001b[K\n",
            "remote: Total 1210 (delta 20), reused 1096 (delta 15), pack-reused 0\u001b[K\n",
            "Receiving objects: 100% (1210/1210), 843.85 KiB | 15.92 MiB/s, done.\n",
            "Resolving deltas: 100% (20/20), done.\n",
            "\n",
            "\u001b[34mLooking for an existing zsh config...\u001b[m\n",
            "\u001b[32mUsing the Oh My Zsh template file and adding it to ~/.zshrc.\u001b[m\n",
            "\n",
            "\u001b[34mTime to change your default shell to zsh:\u001b[m\n",
            "\u001b[33mDo you want to change your default shell to zsh? [Y/n]\u001b[m Y\n",
            "Changing the shell...\n",
            "\u001b[32mShell successfully changed to '/usr/bin/zsh'.\u001b[m\n",
            "\n",
            "\u001b[32m         __                                     __\n",
            "  ____  / /_     ____ ___  __  __   ____  _____/ /_\n",
            " / __ \\/ __ \\   / __ `__ \\/ / / /  /_  / / ___/ __ \\\n",
            "/ /_/ / / / /  / / / / / / /_/ /    / /_(__  ) / / /\n",
            "\\____/_/ /_/  /_/ /_/ /_/\\__, /    /___/____/_/ /_/\n",
            "                        /____/                       ....is now installed!\n",
            "\n",
            "\n",
            "Before you scream Oh My Zsh! please look over the ~/.zshrc file to select plugins, themes, and options.\n",
            "\n",
            "• Follow us on Twitter: \u001b[4mhttps://twitter.com/ohmyzsh\u001b[24m\n",
            "• Join our Discord server: \u001b[4mhttps://discord.gg/ohmyzsh\u001b[24m\n",
            "• Get stickers, shirts, coffee mugs and other swag: \u001b[4mhttps://shop.planetargon.com/collections/oh-my-zsh\u001b[24m\n",
            "\n",
            "\u001b[m\u001b[m\u001b[m\u001b[J\u001b[01;32m➜  \u001b[36m/content\u001b[00m \u001b[K\u001b[?1h\u001b=\u001b[?2004he\bexi\u001b[?1l\u001b>\u001b[?2004l\n",
            "\u001b]2;exi\u0007\u001b]1;exi\u0007zsh: command not found: exi\n",
            "\u001b[m\u001b[m\u001b[m\u001b[J\u001b[01;31m➜  \u001b[36m/content\u001b[00m \u001b[K\u001b[?1h\u001b=\u001b[?2004he\bexit\u001b[?1l\u001b>\u001b[?2004l\n",
            "\u001b]2;exit\u0007\u001b]1;exit\u0007"
          ],
          "name": "stdout"
        }
      ]
    },
    {
      "cell_type": "markdown",
      "metadata": {
        "id": "jDyqokRGgKhn"
      },
      "source": [
        "**Connect to Collab VM**\n",
        "\n",
        "There are 2 ways to do this \n",
        "1. SSH into VM and connect to local VSCode window (This is better)\n",
        "2. Port forward using ngrok and use VSCode on Chrome (tends to fail more often)\n",
        "\n",
        " "
      ]
    },
    {
      "cell_type": "markdown",
      "metadata": {
        "id": "R7pDbWtSsFrt"
      },
      "source": [
        "**2. SSH into VM and connect to local VSCode window**"
      ]
    },
    {
      "cell_type": "code",
      "metadata": {
        "id": "L1KQu-a-Hnez",
        "colab": {
          "base_uri": "https://localhost:8080/"
        },
        "outputId": "573f323e-ccc9-4ec9-ba1c-7463a8b9ff84"
      },
      "source": [
        "# get your authotoken from ngroks website. this is my authtoken, use your own authoken while running the next cell\n",
        "!./ngrok authtoken 1qYZl0t7kPdxJoSUttB5JaMd9yE_5xh2gbXA8xZQvbECUPkzu\n",
        "# next you need to install remote ssh extension on vscode\n"
      ],
      "execution_count": null,
      "outputs": [
        {
          "output_type": "stream",
          "text": [
            "Authtoken saved to configuration file: /root/.ngrok2/ngrok.yml\n"
          ],
          "name": "stdout"
        }
      ]
    },
    {
      "cell_type": "code",
      "metadata": {
        "id": "xfF0_qEZJ1_j",
        "colab": {
          "base_uri": "https://localhost:8080/"
        },
        "outputId": "d8fcd35a-9da5-4d96-e1e4-51c1c9c90457"
      },
      "source": [
        "\n",
        "from colab_ssh import launch_ssh\n",
        "# login to your ngrok account on the site, paste your authtoken at the bottom and set a random password\n",
        "launch_ssh('your_ngrok_key_here', 'Password@123')"
      ],
      "execution_count": null,
      "outputs": [
        {
          "output_type": "stream",
          "text": [
            "Warning: Due to some issues with ngrok on Google Colab, reported in the issue https://github.com/WassimBenzarti/colab-ssh/issues/45, \n",
            "we highly recommend that update your code by following this documentation https://github.com/WassimBenzarti/colab-ssh#getting-started\n",
            "Successfully running 6.tcp.ngrok.io:17304\n",
            "[Optional] You can also connect with VSCode SSH Remote extension using this configuration:\n",
            "\n",
            "\tHost google_colab_ssh\n",
            "\t\tHostName 6.tcp.ngrok.io\n",
            "\t\tUser root\n",
            "\t\tPort 17304\n",
            "\t  \n"
          ],
          "name": "stdout"
        }
      ]
    },
    {
      "cell_type": "markdown",
      "metadata": {
        "id": "rEGlDFj_jk27"
      },
      "source": [
        "**Finally:**\n",
        "\n",
        "Copy and paste this config to your ssh config file on Vscode ^.\n",
        "After that you can connect to google_colab_ssh on vscode and start coding. Don't forget to run the next cell also."
      ]
    },
    {
      "cell_type": "markdown",
      "metadata": {
        "id": "HELHslpfkg_z"
      },
      "source": [
        "**1. Port forward using ngrok and use VSCode on Chrome (not recommended, use option 2)**"
      ]
    },
    {
      "cell_type": "code",
      "metadata": {
        "id": "JWEcJAciQOoB"
      },
      "source": [
        "# from colabcode import ColabCode\n",
        "# ColabCode(port=10000, password=\"password1231997\")"
      ],
      "execution_count": null,
      "outputs": []
    },
    {
      "cell_type": "markdown",
      "metadata": {
        "id": "lCmu6w773SzO"
      },
      "source": [
        ""
      ]
    },
    {
      "cell_type": "code",
      "metadata": {
        "id": "sMBqU7ARKPaf"
      },
      "source": [
        "# run this to make sure collab doesnt timeout while you code in vscode, this ensures timeout doesnt happen\n",
        "import time\n",
        "while True:\n",
        "  time.sleep(60)\n"
      ],
      "execution_count": null,
      "outputs": []
    },
    {
      "cell_type": "code",
      "metadata": {
        "id": "WGBGeZsNk4Hk"
      },
      "source": [
        ""
      ],
      "execution_count": null,
      "outputs": []
    }
  ]
}